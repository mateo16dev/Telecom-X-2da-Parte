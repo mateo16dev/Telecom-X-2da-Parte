{
  "nbformat": 4,
  "nbformat_minor": 0,
  "metadata": {
    "colab": {
      "provenance": []
    },
    "kernelspec": {
      "name": "python3",
      "display_name": "Python 3"
    },
    "language_info": {
      "name": "python"
    }
  },
  "cells": [
    {
      "cell_type": "code",
      "execution_count": null,
      "metadata": {
        "id": "VaDvVP0l1zDc"
      },
      "outputs": [],
      "source": []
    },
    {
      "cell_type": "markdown",
      "source": [
        "\n",
        "🧠 Objetivos del Desafío\n",
        "\n",
        "Preparar los datos para el modelado (tratamiento, codificación, normalización).\n",
        "\n",
        "Realizar análisis de correlación y selección de variables.\n",
        "\n",
        "Entrenar dos o más modelos de clasificación.\n",
        "\n",
        "Evaluar el rendimiento de los modelos con métricas.\n",
        "\n",
        "Interpretar los resultados, incluyendo la importancia de las variables.\n",
        "\n",
        "Crear una conclusión estratégica señalando los principales factores que influyen en la cancelación.\n",
        "\n"
      ],
      "metadata": {
        "id": "MP73j4fF2Bgj"
      }
    }
  ]
}