{
  "nbformat": 4,
  "nbformat_minor": 0,
  "metadata": {
    "colab": {
      "provenance": []
    },
    "kernelspec": {
      "name": "python3",
      "display_name": "Python 3"
    },
    "language_info": {
      "name": "python"
    }
  },
  "cells": [
    {
      "cell_type": "markdown",
      "source": [
        "# 1. **🛠️ Preparación de los Datos**"
      ],
      "metadata": {
        "id": "Hj28whnNFu71"
      }
    },
    {
      "cell_type": "markdown",
      "source": [
        "\n",
        "#**Preparar los datos para el modelado (tratamiento, codificación, normalización).**\n",
        "\n",
        "\n",
        "\n"
      ],
      "metadata": {
        "id": "MP73j4fF2Bgj"
      }
    },
    {
      "cell_type": "code",
      "source": [
        "# Importar librerías\n",
        "\n",
        "import pandas as pd\n",
        "import numpy as np\n",
        "from sklearn.model_selection import train_test_split\n",
        "from sklearn.preprocessing import StandardScaler, OneHotEncoder\n",
        "from sklearn.compose import ColumnTransformer\n",
        "from sklearn.pipeline import Pipeline"
      ],
      "metadata": {
        "id": "DDTwftf64m7n"
      },
      "execution_count": null,
      "outputs": []
    },
    {
      "cell_type": "code",
      "source": [
        "# Cargar los datos\n",
        "df = pd.read_csv(\n",
        "    \"https://raw.githubusercontent.com/mateo16dev/Telecom-X-2da-Parte/refs/heads/main/Archivos%20An%C3%A1lisis/TelecomX_Procesado.csv\",\n",
        "    encoding=\"utf-8-sig\"\n",
        ")\n"
      ],
      "metadata": {
        "id": "a-5YRWAl6z-B"
      },
      "execution_count": null,
      "outputs": []
    },
    {
      "cell_type": "code",
      "source": [
        "# Separar X (features) e y (target)\n",
        "X = df.drop(\"Churn\", axis=1)   # Variables independientes\n",
        "y = df[\"Churn\"]                # Variable objetivo\n",
        "\n",
        "# Identificar variables categóricas y numéricas\n",
        "cat_cols = X.select_dtypes(include=[\"object\"]).columns.tolist()\n",
        "num_cols = X.select_dtypes(include=[\"int64\", \"float64\"]).columns.tolist()\n",
        "\n",
        "print(\"Variables categóricas:\", cat_cols)\n",
        "print(\"Variables numéricas:\", num_cols)"
      ],
      "metadata": {
        "colab": {
          "base_uri": "https://localhost:8080/"
        },
        "id": "BnI6ya5K6w5F",
        "outputId": "a2e5e200-3f87-4359-fea7-18733207dd16"
      },
      "execution_count": null,
      "outputs": [
        {
          "output_type": "stream",
          "name": "stdout",
          "text": [
            "Variables categóricas: ['gender', 'Partner', 'Dependents', 'customerID', 'Contract', 'PaperlessBilling', 'PaymentMethod', 'PhoneService', 'MultipleLines', 'InternetService', 'OnlineSecurity', 'OnlineBackup', 'DeviceProtection', 'TechSupport', 'StreamingTV', 'StreamingMovies']\n",
            "Variables numéricas: ['SeniorCitizen', 'tenure', 'Charges.Monthly', 'Charges.Total', 'Cuentas_Diarias']\n"
          ]
        }
      ]
    },
    {
      "cell_type": "markdown",
      "source": [
        "## Encoding"
      ],
      "metadata": {
        "id": "gpxEoBEJCqfX"
      }
    },
    {
      "cell_type": "code",
      "source": [
        "# Preprocesamiento con ColumnTransformer\n",
        "# - OneHotEncoder para categóricas\n",
        "# - StandardScaler para numéricas\n",
        "preprocessor = ColumnTransformer(\n",
        "    transformers=[\n",
        "        (\"num\", StandardScaler(), num_cols),\n",
        "        (\"cat\", OneHotEncoder(handle_unknown=\"ignore\"), cat_cols)\n",
        "    ]\n",
        ")\n",
        "\n",
        "#Dividir en entrenamiento y prueba\n",
        "X_train, X_test, y_train, y_test = train_test_split(\n",
        "    X, y, test_size=0.2, random_state=42, stratify=y\n",
        ")\n",
        "\n",
        "# Aplicar preprocesamiento\n",
        "# Creamos un pipeline que aplique el preprocesamiento\n",
        "pipeline = Pipeline(steps=[(\"preprocessor\", preprocessor)])\n",
        "\n",
        "# Transformar los datos\n",
        "X_train_prep = pipeline.fit_transform(X_train)\n",
        "X_test_prep = pipeline.transform(X_test)\n",
        "\n",
        "print(\"Shape X_train original:\", X_train.shape)\n",
        "print(\"Shape X_train procesado:\", X_train_prep.shape)"
      ],
      "metadata": {
        "colab": {
          "base_uri": "https://localhost:8080/"
        },
        "id": "D8-pYqYECscP",
        "outputId": "c0a1e242-a48c-4b97-8794-f72f93f74bbe"
      },
      "execution_count": null,
      "outputs": [
        {
          "output_type": "stream",
          "name": "stdout",
          "text": [
            "Shape X_train original: (5634, 21)\n",
            "Shape X_train procesado: (5634, 5680)\n"
          ]
        }
      ]
    },
    {
      "cell_type": "markdown",
      "source": [
        "## Verificación de la Proporción de Cancelación (Churn)"
      ],
      "metadata": {
        "id": "O_TWQtkFDyrR"
      }
    },
    {
      "cell_type": "code",
      "source": [
        "# Contar clientes por cada categoría de Churn\n",
        "churn_counts = df['Churn'].value_counts()\n",
        "\n",
        "# Calcular proporción\n",
        "churn_proportion = df['Churn'].value_counts(normalize=True)\n",
        "\n",
        "print(\"Conteo de clientes por Churn:\\n\", churn_counts)\n",
        "print(\"\\nProporción de clientes por Churn:\\n\", churn_proportion)\n"
      ],
      "metadata": {
        "colab": {
          "base_uri": "https://localhost:8080/"
        },
        "id": "dk1bQenYDz-7",
        "outputId": "12aa3309-c729-4038-8b40-62a46242da55"
      },
      "execution_count": null,
      "outputs": [
        {
          "output_type": "stream",
          "name": "stdout",
          "text": [
            "Conteo de clientes por Churn:\n",
            " Churn\n",
            "No     5174\n",
            "Yes    1869\n",
            "Name: count, dtype: int64\n",
            "\n",
            "Proporción de clientes por Churn:\n",
            " Churn\n",
            "No     0.73463\n",
            "Yes    0.26537\n",
            "Name: proportion, dtype: float64\n"
          ]
        }
      ]
    },
    {
      "cell_type": "code",
      "source": [
        "from sklearn.pipeline import Pipeline\n",
        "\n",
        "full_pipeline = Pipeline(steps=[\n",
        "    ('preprocessor', pipeline),   # pipeline es el ColumnTransformer\n",
        "    # ('clf', modelo)  # si agregas un clasificador\n",
        "])"
      ],
      "metadata": {
        "id": "fGGcuNYz8IPi"
      },
      "execution_count": null,
      "outputs": []
    },
    {
      "cell_type": "code",
      "source": [
        "# Ajustar el pipeline y transformar los datos\n",
        "X_train_prep = full_pipeline.fit_transform(X_train)\n",
        "X_test_prep  = full_pipeline.transform(X_test)\n",
        "\n",
        "# Ahora X_train_prep y X_test_prep están normalizados y codificados\n",
        "print(\"Shape X_train procesado:\", X_train_prep.shape)\n",
        "print(\"Shape X_test procesado:\", X_test_prep.shape)\n"
      ],
      "metadata": {
        "colab": {
          "base_uri": "https://localhost:8080/"
        },
        "id": "nus_M4ktAG-a",
        "outputId": "8b68a15a-efb1-4744-f520-14f4684c890d"
      },
      "execution_count": null,
      "outputs": [
        {
          "output_type": "stream",
          "name": "stdout",
          "text": [
            "Shape X_train procesado: (5634, 5680)\n",
            "Shape X_test procesado: (1409, 5680)\n"
          ]
        }
      ]
    },
    {
      "cell_type": "markdown",
      "source": [
        "## Eliminar columnas innecesarias"
      ],
      "metadata": {
        "id": "bjTnna0nBBNk"
      }
    },
    {
      "cell_type": "code",
      "source": [
        "drop_cols = ['customerID']\n",
        "df_model = df.drop(columns=drop_cols)\n",
        "\n",
        "# Separar X (features) e y (target)\n",
        "X = df_model.drop(\"Churn\", axis=1)\n",
        "y = df_model[\"Churn\"]\n",
        "\n",
        "# dentificar variables categóricas y numéricas\n",
        "categorical_cols = X.select_dtypes(include=[\"object\"]).columns.tolist()\n",
        "numeric_cols = X.select_dtypes(include=[\"int64\", \"float64\"]).columns.tolist()\n",
        "\n",
        "print(\"Variables categóricas:\", categorical_cols)\n",
        "print(\"Variables numéricas:\", numeric_cols)\n"
      ],
      "metadata": {
        "colab": {
          "base_uri": "https://localhost:8080/"
        },
        "id": "9nXT4TUtBHit",
        "outputId": "ebb67479-6769-4e1f-f68a-8665fa10b156"
      },
      "execution_count": null,
      "outputs": [
        {
          "output_type": "stream",
          "name": "stdout",
          "text": [
            "Variables categóricas: ['gender', 'Partner', 'Dependents', 'Contract', 'PaperlessBilling', 'PaymentMethod', 'PhoneService', 'MultipleLines', 'InternetService', 'OnlineSecurity', 'OnlineBackup', 'DeviceProtection', 'TechSupport', 'StreamingTV', 'StreamingMovies']\n",
            "Variables numéricas: ['SeniorCitizen', 'tenure', 'Charges.Monthly', 'Charges.Total', 'Cuentas_Diarias']\n"
          ]
        }
      ]
    },
    {
      "cell_type": "markdown",
      "source": [
        "# 2. **🎯 Correlación y Selección de Variables**"
      ],
      "metadata": {
        "id": "7XrY-PdjFWcw"
      }
    },
    {
      "cell_type": "markdown",
      "source": [
        "## **Realizar análisis de correlación y selección de variables.**"
      ],
      "metadata": {
        "id": "lfEmJDbH3zkj"
      }
    },
    {
      "cell_type": "code",
      "source": [
        "import seaborn as sns\n",
        "import matplotlib.pyplot as plt\n",
        "\n",
        "# Convertimos Churn a 0 y 1\n",
        "df_corr = df_model.copy()\n",
        "df_corr['Churn_num'] = df_corr['Churn'].map({'No':0, 'Yes':1})\n",
        "\n",
        "# Seleccionamos solo variables numéricas + Churn\n",
        "num_cols_for_corr = numeric_cols + ['Churn_num']\n",
        "corr_matrix = df_corr[num_cols_for_corr].corr()\n",
        "\n",
        "# Visualización\n",
        "plt.figure(figsize=(8,6))\n",
        "sns.heatmap(corr_matrix, annot=True, fmt=\".2f\", cmap=\"coolwarm\")\n",
        "plt.title(\"Matriz de Correlación\")\n",
        "plt.show()\n"
      ],
      "metadata": {
        "colab": {
          "base_uri": "https://localhost:8080/",
          "height": 648
        },
        "id": "oRIQ1-2K4nR2",
        "outputId": "9b045ea5-a195-499e-9c0a-e6ea30bd8195"
      },
      "execution_count": null,
      "outputs": [
        {
          "output_type": "display_data",
          "data": {
            "text/plain": [
              "<Figure size 800x600 with 2 Axes>"
            ],
            "image/png": "[encoded data removed]"
          },
          "metadata": {}
        }
      ]
    },
    {
      "cell_type": "code",
      "source": [
        "# Correlación con Churn\n",
        "corr_target = corr_matrix['Churn_num'].drop('Churn_num')\n",
        "print(\"Correlación con Churn:\\n\", corr_target)\n",
        "\n",
        "# Variables con correlación > 0.1 o < -0.1 (ajustable)\n",
        "selected_features_corr = corr_target[abs(corr_target) > 0.1].index.tolist()\n",
        "print(\"\\nVariables seleccionadas por correlación:\", selected_features_corr)\n"
      ],
      "metadata": {
        "colab": {
          "base_uri": "https://localhost:8080/"
        },
        "id": "TF4oQ1WHHSFO",
        "outputId": "c79e0144-f846-4a6e-8259-af566ef6b986"
      },
      "execution_count": null,
      "outputs": [
        {
          "output_type": "stream",
          "name": "stdout",
          "text": [
            "Correlación con Churn:\n",
            " SeniorCitizen      0.150889\n",
            "tenure            -0.352229\n",
            "Charges.Monthly    0.193356\n",
            "Charges.Total     -0.198324\n",
            "Cuentas_Diarias    0.193356\n",
            "Name: Churn_num, dtype: float64\n",
            "\n",
            "Variables seleccionadas por correlación: ['SeniorCitizen', 'tenure', 'Charges.Monthly', 'Charges.Total', 'Cuentas_Diarias']\n"
          ]
        }
      ]
    },
    {
      "cell_type": "markdown",
      "source": [
        "## Análisis Dirigido"
      ],
      "metadata": {
        "id": "b_45K1InI3d-"
      }
    },
    {
      "cell_type": "code",
      "source": [
        "import seaborn as sns\n",
        "import matplotlib.pyplot as plt\n",
        "\n",
        "plt.figure(figsize=(8,5))\n",
        "sns.boxplot(x='Churn', y='tenure', data=df_model)\n",
        "plt.title('Distribución del Tiempo de Contrato por Churn')\n",
        "plt.ylabel('Meses de contrato')\n",
        "plt.show()\n"
      ],
      "metadata": {
        "colab": {
          "base_uri": "https://localhost:8080/",
          "height": 488
        },
        "id": "YBlUKbZII30k",
        "outputId": "bed5f44d-0e65-469b-ebca-429763235f4d"
      },
      "execution_count": null,
      "outputs": [
        {
          "output_type": "display_data",
          "data": {
            "text/plain": [
              "<Figure size 800x500 with 1 Axes>"
            ],
            "image/png": "[encoded data removed]"
          },
          "metadata": {}
        }
      ]
    },
    {
      "cell_type": "markdown",
      "source": [
        "# 3. **🤖 Modelado Predictivo**"
      ],
      "metadata": {
        "id": "gO50KbcwMk9P"
      }
    },
    {
      "cell_type": "markdown",
      "source": [
        "# Separación de Datos"
      ],
      "metadata": {
        "id": "k95tcEbzMtKQ"
      }
    },
    {
      "cell_type": "code",
      "source": [
        "from sklearn.model_selection import train_test_split\n",
        "\n",
        "# Separar features y target\n",
        "X = df_model.drop(\"Churn\", axis=1)\n",
        "y = df_model[\"Churn\"]\n",
        "\n",
        "# División 70% entrenamiento / 30% prueba\n",
        "X_train, X_test, y_train, y_test = train_test_split(\n",
        "    X, y,\n",
        "    test_size=0.3,\n",
        "    random_state=42,\n",
        "    stratify=y  # Mantiene la proporción de Churn en ambos conjuntos\n",
        ")\n",
        "\n",
        "# Verificar tamaños\n",
        "print(\"Tamaño X_train:\", X_train.shape)\n",
        "print(\"Tamaño X_test:\", X_test.shape)\n",
        "print(\"Proporción de Churn en train:\\n\", y_train.value_counts(normalize=True))\n",
        "print(\"Proporción de Churn en test:\\n\", y_test.value_counts(normalize=True))\n"
      ],
      "metadata": {
        "colab": {
          "base_uri": "https://localhost:8080/"
        },
        "id": "OhDDy11TMyyL",
        "outputId": "7d05c7ff-c00b-401d-a950-31a36094350e"
      },
      "execution_count": null,
      "outputs": [
        {
          "output_type": "stream",
          "name": "stdout",
          "text": [
            "Tamaño X_train: (4930, 20)\n",
            "Tamaño X_test: (2113, 20)\n",
            "Proporción de Churn en train:\n",
            " Churn\n",
            "No     0.734686\n",
            "Yes    0.265314\n",
            "Name: proportion, dtype: float64\n",
            "Proporción de Churn en test:\n",
            " Churn\n",
            "No     0.734501\n",
            "Yes    0.265499\n",
            "Name: proportion, dtype: float64\n"
          ]
        }
      ]
    },
    {
      "cell_type": "markdown",
      "source": [
        "#**Entrenar dos o más modelos de clasificación.**"
      ],
      "metadata": {
        "id": "TZdGuphr3zjA"
      }
    },
    {
      "cell_type": "markdown",
      "source": [
        "### Regresión Logística"
      ],
      "metadata": {
        "id": "P-12WjGoNoaz"
      }
    },
    {
      "cell_type": "code",
      "source": [
        "from sklearn.linear_model import LogisticRegression\n",
        "from sklearn.pipeline import Pipeline\n",
        "from sklearn.metrics import classification_report, confusion_matrix, accuracy_score\n",
        "from sklearn.compose import ColumnTransformer\n",
        "from sklearn.preprocessing import StandardScaler, OneHotEncoder\n",
        "\n",
        "# Redefinir cat_cols y num_cols usando X_train después de eliminar 'customerID'\n",
        "cat_cols_train = X_train.select_dtypes(include=[\"object\"]).columns.tolist()\n",
        "num_cols_train = X_train.select_dtypes(include=[\"int64\", \"float64\"]).columns.tolist()\n",
        "\n",
        "\n",
        "# Crear el preprocesador con las listas de columnas actualizadas\n",
        "preprocessor = ColumnTransformer(\n",
        "    transformers=[\n",
        "        (\"num\", StandardScaler(), num_cols_train),\n",
        "        (\"cat\", OneHotEncoder(handle_unknown=\"ignore\"), cat_cols_train)\n",
        "    ]\n",
        ")\n",
        "\n",
        "# Crear el pipeline completo: preprocesador + modelo\n",
        "logreg_pipeline = Pipeline(steps=[\n",
        "    ('preprocessor', preprocessor),\n",
        "    ('classifier', LogisticRegression(max_iter=1000, random_state=42))\n",
        "])\n",
        "\n",
        "# Entrenar el modelo\n",
        "logreg_pipeline.fit(X_train, y_train)\n",
        "\n",
        "# Predicciones\n",
        "y_pred_train = logreg_pipeline.predict(X_train)\n",
        "y_pred_test  = logreg_pipeline.predict(X_test)\n",
        "\n",
        "# Evaluación en entrenamiento\n",
        "print(\"=== Evaluación en TRAIN ===\")\n",
        "print(\"Accuracy:\", accuracy_score(y_train, y_pred_train))\n",
        "print(\"Confusion Matrix:\\n\", confusion_matrix(y_train, y_pred_train))\n",
        "print(\"Classification Report:\\n\", classification_report(y_train, y_pred_train))\n",
        "\n",
        "# Evaluación en prueba\n",
        "print(\"\\n=== Evaluación en TEST ===\")\n",
        "print(\"Accuracy:\", accuracy_score(y_test, y_pred_test))\n",
        "print(\"Confusion Matrix:\\n\", confusion_matrix(y_test, y_pred_test))\n",
        "print(\"Classification Report:\\n\", classification_report(y_test, y_pred_test))"
      ],
      "metadata": {
        "colab": {
          "base_uri": "https://localhost:8080/"
        },
        "id": "zbEJHv2b4nnK",
        "outputId": "9b96c1c1-64f3-4cbb-ad23-6fd6b8831c2e"
      },
      "execution_count": null,
      "outputs": [
        {
          "output_type": "stream",
          "name": "stdout",
          "text": [
            "=== Evaluación en TRAIN ===\n",
            "Accuracy: 0.8097363083164301\n",
            "Confusion Matrix:\n",
            " [[3256  366]\n",
            " [ 572  736]]\n",
            "Classification Report:\n",
            "               precision    recall  f1-score   support\n",
            "\n",
            "          No       0.85      0.90      0.87      3622\n",
            "         Yes       0.67      0.56      0.61      1308\n",
            "\n",
            "    accuracy                           0.81      4930\n",
            "   macro avg       0.76      0.73      0.74      4930\n",
            "weighted avg       0.80      0.81      0.80      4930\n",
            "\n",
            "\n",
            "=== Evaluación en TEST ===\n",
            "Accuracy: 0.7974443918599148\n",
            "Confusion Matrix:\n",
            " [[1378  174]\n",
            " [ 254  307]]\n",
            "Classification Report:\n",
            "               precision    recall  f1-score   support\n",
            "\n",
            "          No       0.84      0.89      0.87      1552\n",
            "         Yes       0.64      0.55      0.59       561\n",
            "\n",
            "    accuracy                           0.80      2113\n",
            "   macro avg       0.74      0.72      0.73      2113\n",
            "weighted avg       0.79      0.80      0.79      2113\n",
            "\n"
          ]
        }
      ]
    },
    {
      "cell_type": "markdown",
      "source": [
        "### Modelo usando Random Forest"
      ],
      "metadata": {
        "id": "x4WHHNyJOPNe"
      }
    },
    {
      "cell_type": "code",
      "source": [
        "from sklearn.ensemble import RandomForestClassifier\n",
        "from sklearn.pipeline import Pipeline\n",
        "from sklearn.metrics import classification_report, confusion_matrix, accuracy_score\n",
        "from sklearn.compose import ColumnTransformer\n",
        "from sklearn.preprocessing import StandardScaler, OneHotEncoder\n",
        "\n",
        "# Redefinir cat_cols y num_cols usando X_train después de eliminar 'customerID'\n",
        "# Estas listas se definieron correctamente en la celda anterior (Regresión Logística)\n",
        "cat_cols_train = X_train.select_dtypes(include=[\"object\"]).columns.tolist()\n",
        "num_cols_train = X_train.select_dtypes(include=[\"int64\", \"float64\"]).columns.tolist()\n",
        "\n",
        "\n",
        "# Crea el preprocesador con las listas de columnas actualizadas.\n",
        "preprocessor_rf = ColumnTransformer(\n",
        "    transformers=[\n",
        "        (\"num\", StandardScaler(), num_cols_train),\n",
        "        (\"cat\", OneHotEncoder(handle_unknown=\"ignore\"), cat_cols_train)\n",
        "    ]\n",
        ")\n",
        "\n",
        "\n",
        "# Crear pipeline completo: preprocesamiento + Random Forest\n",
        "rf_pipeline = Pipeline(steps=[\n",
        "    ('preprocessor', preprocessor_rf),  # Use the newly defined preprocessor\n",
        "    ('classifier', RandomForestClassifier(\n",
        "        n_estimators=200,       # número de árboles\n",
        "        max_depth=None,         # profundidad ilimitada\n",
        "        random_state=42,\n",
        "        class_weight='balanced' # balancea automáticamente las clases\n",
        "    ))\n",
        "])\n",
        "\n",
        "# Entrenar el modelo\n",
        "rf_pipeline.fit(X_train, y_train)\n",
        "\n",
        "# Predicciones\n",
        "y_pred_train_rf = rf_pipeline.predict(X_train)\n",
        "y_pred_test_rf  = rf_pipeline.predict(X_test)\n",
        "\n",
        "# Evaluación en entrenamiento\n",
        "print(\"=== Evaluación Random Forest en TRAIN ===\")\n",
        "print(\"Accuracy:\", accuracy_score(y_train, y_pred_train_rf))\n",
        "print(\"Confusion Matrix:\\n\", confusion_matrix(y_train, y_pred_train_rf))\n",
        "print(\"Classification Report:\\n\", classification_report(y_train, y_pred_train_rf))\n",
        "\n",
        "# Evaluación en prueba\n",
        "print(\"\\n=== Evaluación Random Forest en TEST ===\")\n",
        "print(\"Accuracy:\", accuracy_score(y_test, y_pred_test_rf))\n",
        "print(\"Confusion Matrix:\\n\", confusion_matrix(y_test, y_pred_test_rf))\n",
        "print(\"Classification Report:\\n\", classification_report(y_test, y_pred_test_rf))"
      ],
      "metadata": {
        "colab": {
          "base_uri": "https://localhost:8080/"
        },
        "id": "UYehSxUYOT0f",
        "outputId": "56fbd74b-2bdb-452a-f6f2-08d86ec18483"
      },
      "execution_count": null,
      "outputs": [
        {
          "output_type": "stream",
          "name": "stdout",
          "text": [
            "=== Evaluación Random Forest en TRAIN ===\n",
            "Accuracy: 0.9977687626774848\n",
            "Confusion Matrix:\n",
            " [[3613    9]\n",
            " [   2 1306]]\n",
            "Classification Report:\n",
            "               precision    recall  f1-score   support\n",
            "\n",
            "          No       1.00      1.00      1.00      3622\n",
            "         Yes       0.99      1.00      1.00      1308\n",
            "\n",
            "    accuracy                           1.00      4930\n",
            "   macro avg       1.00      1.00      1.00      4930\n",
            "weighted avg       1.00      1.00      1.00      4930\n",
            "\n",
            "\n",
            "=== Evaluación Random Forest en TEST ===\n",
            "Accuracy: 0.780407004259347\n",
            "Confusion Matrix:\n",
            " [[1382  170]\n",
            " [ 294  267]]\n",
            "Classification Report:\n",
            "               precision    recall  f1-score   support\n",
            "\n",
            "          No       0.82      0.89      0.86      1552\n",
            "         Yes       0.61      0.48      0.54       561\n",
            "\n",
            "    accuracy                           0.78      2113\n",
            "   macro avg       0.72      0.68      0.70      2113\n",
            "weighted avg       0.77      0.78      0.77      2113\n",
            "\n"
          ]
        }
      ]
    },
    {
      "cell_type": "markdown",
      "source": [
        "# **Evaluar el rendimiento de los modelos con métricas.**"
      ],
      "metadata": {
        "id": "SKpZMAan3zR9"
      }
    },
    {
      "cell_type": "code",
      "source": [
        "from sklearn.metrics import accuracy_score, precision_score, recall_score, f1_score, confusion_matrix\n",
        "\n",
        "# Crear diccionarios para almacenar métricas\n",
        "metrics = {}\n",
        "\n",
        "# Lista de modelos y sus predicciones\n",
        "modelos = {\n",
        "    \"Regresión Logística\": (y_pred_test, y_pred_train),\n",
        "    \"Random Forest\": (y_pred_test_rf, y_pred_train_rf)\n",
        "}\n",
        "\n",
        "for nombre, (y_test_pred, y_train_pred) in modelos.items():\n",
        "    metrics[nombre] = {}\n",
        "\n",
        "    # Accuracy\n",
        "    metrics[nombre][\"Accuracy Test\"] = accuracy_score(y_test, y_test_pred)\n",
        "    metrics[nombre][\"Accuracy Train\"] = accuracy_score(y_train, y_train_pred)\n",
        "\n",
        "    # Precisión, Recall, F1-score para cada clase\n",
        "    metrics[nombre][\"Precision Test\"] = precision_score(y_test, y_test_pred, pos_label='Yes')\n",
        "    metrics[nombre][\"Recall Test\"] = recall_score(y_test, y_test_pred, pos_label='Yes')\n",
        "    metrics[nombre][\"F1-score Test\"] = f1_score(y_test, y_test_pred, pos_label='Yes')\n",
        "\n",
        "    metrics[nombre][\"Precision Train\"] = precision_score(y_train, y_train_pred, pos_label='Yes')\n",
        "    metrics[nombre][\"Recall Train\"] = recall_score(y_train, y_train_pred, pos_label='Yes')\n",
        "    metrics[nombre][\"F1-score Train\"] = f1_score(y_train, y_train_pred, pos_label='Yes')\n",
        "\n",
        "    # Matriz de confusión\n",
        "    metrics[nombre][\"Confusion Matrix Test\"] = confusion_matrix(y_test, y_test_pred)\n",
        "    metrics[nombre][\"Confusion Matrix Train\"] = confusion_matrix(y_train, y_train_pred)\n",
        "\n",
        "# Mostrar métricas\n",
        "for nombre, m in metrics.items():\n",
        "    print(f\"\\n=== Métricas {nombre} ===\")\n",
        "    print(f\"Accuracy Test: {m['Accuracy Test']:.4f}, Accuracy Train: {m['Accuracy Train']:.4f}\")\n",
        "    print(f\"Precision Test: {m['Precision Test']:.4f}, Recall Test: {m['Recall Test']:.4f}, F1-score Test: {m['F1-score Test']:.4f}\")\n",
        "    print(\"Confusion Matrix Test:\\n\", m[\"Confusion Matrix Test\"])\n"
      ],
      "metadata": {
        "colab": {
          "base_uri": "https://localhost:8080/"
        },
        "id": "eAmJIrJt4oFY",
        "outputId": "417b7889-386f-4945-a811-462dbfa576eb"
      },
      "execution_count": null,
      "outputs": [
        {
          "output_type": "stream",
          "name": "stdout",
          "text": [
            "\n",
            "=== Métricas Regresión Logística ===\n",
            "Accuracy Test: 0.7974, Accuracy Train: 0.8097\n",
            "Precision Test: 0.6383, Recall Test: 0.5472, F1-score Test: 0.5893\n",
            "Confusion Matrix Test:\n",
            " [[1378  174]\n",
            " [ 254  307]]\n",
            "\n",
            "=== Métricas Random Forest ===\n",
            "Accuracy Test: 0.7804, Accuracy Train: 0.9978\n",
            "Precision Test: 0.6110, Recall Test: 0.4759, F1-score Test: 0.5351\n",
            "Confusion Matrix Test:\n",
            " [[1382  170]\n",
            " [ 294  267]]\n"
          ]
        }
      ]
    },
    {
      "cell_type": "markdown",
      "source": [
        "#**Interpretar los resultados, incluyendo la importancia de las variables.**"
      ],
      "metadata": {
        "id": "70fNZba93zPN"
      }
    },
    {
      "cell_type": "markdown",
      "source": [
        "**Comparación de modelos para predicción de Churn**\n",
        "\n",
        "Regresión Logística:\n",
        "\n",
        "* Accuracy en test: 79,7%\n",
        "\n",
        "* Recall en clientes que cancelan: 54,7%\n",
        "\n",
        "* F1-score: 58,9%\n",
        "\n",
        "Desempeño estable y balanceado. Detecta mejor a los clientes que realmente cancelan.\n",
        "\n",
        "Random Forest:\n",
        "\n",
        "* Accuracy en test: 78,0%\n",
        "\n",
        "* Recall en clientes que cancelan: 47,6%\n",
        "\n",
        "* F1-score: 53,5%\n",
        "\n",
        "Presenta overfitting (accuracy train ≈ 99,8%), lo que indica que el modelo aprende demasiado de los datos de entrenamiento y no generaliza bien.\n",
        "\n",
        "**Análisis crítico:**\n",
        "\n",
        "El mejor desempeño lo tiene la Regresión Logística, especialmente en la detección de clientes que cancelan.\n",
        "\n",
        "El Random Forest muestra overfitting, probablemente por exceso de árboles y profundidad ilimitada. Ajustar max_depth, min_samples_leaf o usar balanceo más avanzado podría mejorar la generalización.\n",
        "\n",
        "Ningún modelo presenta underfitting; ambos capturan tendencias relevantes, pero el Random Forest necesita regularización para evitar sobreajuste.\n",
        "\n",
        "**Conclusión:** Para este conjunto de datos y objetivo de detectar cancelaciones, la Regresión Logística es más confiable y estable."
      ],
      "metadata": {
        "id": "ab2ySHgXRPGd"
      }
    },
    {
      "cell_type": "markdown",
      "source": [
        "# **Crear una conclusión estratégica señalando los principales factores que influyen en la cancelación.**\n",
        "\n"
      ],
      "metadata": {
        "id": "6d_Q57Lx4YER"
      }
    },
    {
      "cell_type": "markdown",
      "source": [
        "**Conclusión Estratégica sobre Churn**\n",
        "\n",
        "* Tiempo de contrato (tenure):\n",
        "\n",
        "  Clientes con menor tiempo de permanencia tienen mayor probabilidad de cancelar. Estrategia: enfocarse en fidelización temprana y programas de retención para clientes nuevos.\n",
        "\n",
        "* Gasto mensual (Charges.Monthly) y Cuentas Diarias (Cuentas_Diarias):\n",
        "\n",
        "  Clientes que gastan más a diario o tienen facturación mensual más alta muestran mayor riesgo de cancelación. Estrategia: revisar planes y ofrecer beneficios o incentivos personalizados para mantenerlos activos.\n",
        "\n",
        "* SeniorCitizen:\n",
        "\n",
        "  La edad o condición de ser cliente senior presenta correlación positiva con cancelación, aunque moderada. Estrategia: diseñar comunicación y ofertas adaptadas a este segmento.\n",
        "\n",
        "* Facturación total (Charges.Total):\n",
        "\n",
        "  Clientes con facturación acumulada baja tienden a cancelar más. Estrategia: incentivar el uso de servicios adicionales y programas de recompensas para aumentar engagement.\n",
        "\n",
        "**Recomendación general:**\n",
        "\n",
        "Monitorear continuamente estos indicadores para identificar clientes en riesgo de churn.\n",
        "\n",
        "Implementar campañas proactivas de retención basadas en patrones de uso y facturación.\n",
        "\n",
        "Priorizar acciones sobre clientes nuevos o de alto gasto diario, ya que tienen mayor impacto potencial en la reducción de cancelaciones."
      ],
      "metadata": {
        "id": "C-Mu98s7SBco"
      }
    }
  ]
}